{
 "cells": [
  {
   "cell_type": "code",
   "execution_count": 2,
   "id": "cdc44a44",
   "metadata": {},
   "outputs": [],
   "source": [
    "import numpy as np"
   ]
  },
  {
   "cell_type": "code",
   "execution_count": 23,
   "id": "d0fc4ac3",
   "metadata": {},
   "outputs": [],
   "source": [
    "def zero_pad(X, pad):\n",
    "    \"\"\"\n",
    "    Pad with zeros all images of the dataset X. The padding is applied to the height and width of an image, \n",
    "    as illustrated in Figure 1.\n",
    "    \n",
    "    Argument:\n",
    "    X -- python numpy array of shape (m, n_H, n_W, n_C) representing a batch of m images\n",
    "    pad -- integer, amount of padding around each image on vertical and horizontal dimensions\n",
    "    \n",
    "    Returns:\n",
    "    X_pad -- padded image of shape (m, n_H + 2 * pad, n_W + 2 * pad, n_C)\n",
    "    \"\"\"\n",
    "    \n",
    "    #(≈ 1 line)\n",
    "    # X_pad = None\n",
    "    # YOUR CODE STARTS HERE\n",
    "    X_pad = np.pad(X,((0,0),(pad,pad),(pad,pad),(0,0)))\n",
    "    \n",
    "    # YOUR CODE ENDS HERE\n",
    "    \n",
    "    return X_pad"
   ]
  },
  {
   "cell_type": "code",
   "execution_count": 40,
   "id": "eeab2283",
   "metadata": {},
   "outputs": [],
   "source": [
    "def conv_single_step(a_slice_prev, W, b):\n",
    "    \"\"\"\n",
    "    Apply one filter defined by parameters W on a single slice (a_slice_prev) of the output activation \n",
    "    of the previous layer.\n",
    "    \n",
    "    Arguments:\n",
    "    a_slice_prev -- slice of input data of shape (f, f, n_C_prev)\n",
    "    W -- Weight parameters contained in a window - matrix of shape (f, f, n_C_prev)\n",
    "    b -- Bias parameters contained in a window - matrix of shape (1, 1, 1)\n",
    "    \n",
    "    Returns:\n",
    "    Z -- a scalar value, the result of convolving the sliding window (W, b) on a slice x of the input data\n",
    "    \"\"\"\n",
    "\n",
    "    #(≈ 3 lines of code)\n",
    "    # Element-wise product between a_slice_prev and W. Do not add the bias yet.\n",
    "    # s = None\n",
    "    # Sum over all entries of the volume s.\n",
    "    # Z = None\n",
    "    # Add bias b to Z. Cast b to a float() so that Z results in a scalar value.\n",
    "    # Z = None\n",
    "    # YOUR CODE STARTS HERE\n",
    "    s = a_slice_prev * W\n",
    "    Z = np.sum(s)\n",
    "    Z = Z + float(b)\n",
    "    # YOUR CODE ENDS HERE\n",
    "\n",
    "    return Z"
   ]
  },
  {
   "cell_type": "code",
   "execution_count": 8,
   "id": "24afb3a1",
   "metadata": {},
   "outputs": [],
   "source": [
    "A_prev = np.ones((5,4,4,3))"
   ]
  },
  {
   "cell_type": "code",
   "execution_count": 9,
   "id": "dd042073",
   "metadata": {},
   "outputs": [
    {
     "data": {
      "text/plain": [
       "(5, 4, 4, 3)"
      ]
     },
     "execution_count": 9,
     "metadata": {},
     "output_type": "execute_result"
    }
   ],
   "source": [
    "A_prev.shape"
   ]
  },
  {
   "cell_type": "code",
   "execution_count": 11,
   "id": "9f2ac412",
   "metadata": {},
   "outputs": [],
   "source": [
    "A_prev = np.random.randn(2, 5, 7, 4)\n",
    "W = np.random.randn(3, 3, 4, 8)\n",
    "b = np.random.randn(1, 1, 1, 8)\n",
    "hparameters = {\"pad\" : 1,\n",
    "               \"stride\": 2}"
   ]
  },
  {
   "cell_type": "code",
   "execution_count": 79,
   "id": "00a56c3a",
   "metadata": {},
   "outputs": [],
   "source": [
    "# A_prev"
   ]
  },
  {
   "cell_type": "code",
   "execution_count": null,
   "id": "5608ad67",
   "metadata": {},
   "outputs": [],
   "source": []
  },
  {
   "cell_type": "code",
   "execution_count": 110,
   "id": "2b52a54a",
   "metadata": {},
   "outputs": [],
   "source": [
    "(m, n_H_prev, n_W_prev, n_C_prev) = A_prev.shape\n",
    "(f, f, n_C_prev, n_C) = W.shape\n",
    "stride = hparameters['stride']\n",
    "pad = hparameters['pad']\n",
    "\n",
    "n_H = int((n_H_prev - f + 2*pad ) / stride) + 1\n",
    "n_W = int((n_W_prev - f + 2*pad) / stride) + 1\n",
    "Z = np.ones((m, n_H, n_W, n_C))\n",
    "\n",
    "A_prev_pad = zero_pad(A_prev,pad)"
   ]
  },
  {
   "cell_type": "code",
   "execution_count": 30,
   "id": "b0640b4e",
   "metadata": {},
   "outputs": [
    {
     "data": {
      "text/plain": [
       "(2, 7, 9, 4)"
      ]
     },
     "execution_count": 30,
     "metadata": {},
     "output_type": "execute_result"
    }
   ],
   "source": [
    "A_prev_pad.shape"
   ]
  },
  {
   "cell_type": "markdown",
   "id": "9f6f394d",
   "metadata": {},
   "source": [
    "### Begin for loops"
   ]
  },
  {
   "cell_type": "code",
   "execution_count": 98,
   "id": "701680b2",
   "metadata": {},
   "outputs": [],
   "source": [
    "for i in range(m):\n",
    "    a_prev_pad = A_prev_pad[i]"
   ]
  },
  {
   "cell_type": "code",
   "execution_count": 99,
   "id": "b9c13254",
   "metadata": {},
   "outputs": [
    {
     "data": {
      "text/plain": [
       "(7, 9, 4)"
      ]
     },
     "execution_count": 99,
     "metadata": {},
     "output_type": "execute_result"
    }
   ],
   "source": [
    "a_prev_pad.shape"
   ]
  },
  {
   "cell_type": "code",
   "execution_count": 111,
   "id": "d7544d60",
   "metadata": {},
   "outputs": [],
   "source": [
    "for h in range(n_H):\n",
    "    vert_start = h\n",
    "#     print(vert_start)\n",
    "    vert_end = vert_start + f\n",
    "#     print(vert_end)"
   ]
  },
  {
   "cell_type": "code",
   "execution_count": 112,
   "id": "d92eea6a",
   "metadata": {},
   "outputs": [],
   "source": [
    "for w in range(n_W):\n",
    "    horiz_start = w\n",
    "#     print(horiz_start)\n",
    "    horiz_end = horiz_start + f"
   ]
  },
  {
   "cell_type": "code",
   "execution_count": 113,
   "id": "7e6b42a6",
   "metadata": {},
   "outputs": [
    {
     "data": {
      "text/plain": [
       "(3, 3, 4)"
      ]
     },
     "execution_count": 113,
     "metadata": {},
     "output_type": "execute_result"
    }
   ],
   "source": [
    "W[:,:,:,0].shape"
   ]
  },
  {
   "cell_type": "code",
   "execution_count": 116,
   "id": "76fd8fcf",
   "metadata": {},
   "outputs": [
    {
     "name": "stdout",
     "output_type": "stream",
     "text": [
      "(3, 3, 4)\n",
      "(3, 3, 4)\n",
      "(3, 3, 4)\n",
      "(3, 3, 4)\n",
      "(3, 3, 4)\n",
      "(3, 3, 4)\n",
      "(3, 3, 4)\n",
      "(3, 3, 4)\n"
     ]
    }
   ],
   "source": [
    "i = m-2\n",
    "for c in range(n_C):\n",
    "    a_slice_prev = a_prev_pad[vert_start:vert_end,horiz_start:horiz_end,:]\n",
    "    print(a_slice_prev.shape)\n",
    "    weights = W[:,:,:,c]\n",
    "    biases = b[:,:,:,c]\n",
    "    Z[i, h, w, c] = conv_single_step(a_slice_prev, weights, biases)"
   ]
  },
  {
   "cell_type": "code",
   "execution_count": 119,
   "id": "2026f43c",
   "metadata": {},
   "outputs": [
    {
     "data": {
      "text/plain": [
       "(3, 3, 4)"
      ]
     },
     "execution_count": 119,
     "metadata": {},
     "output_type": "execute_result"
    }
   ],
   "source": [
    "a_slice_prev.shape"
   ]
  },
  {
   "cell_type": "code",
   "execution_count": 137,
   "id": "83845de0",
   "metadata": {},
   "outputs": [
    {
     "ename": "AttributeError",
     "evalue": "module 'numpy' has no attribute 'mult'",
     "output_type": "error",
     "traceback": [
      "\u001b[0;31m---------------------------------------------------------------------------\u001b[0m",
      "\u001b[0;31mAttributeError\u001b[0m                            Traceback (most recent call last)",
      "Input \u001b[0;32mIn [137]\u001b[0m, in \u001b[0;36m<cell line: 1>\u001b[0;34m()\u001b[0m\n\u001b[0;32m----> 1\u001b[0m \u001b[43mnp\u001b[49m\u001b[38;5;241;43m.\u001b[39;49m\u001b[43mmult\u001b[49m(a_slice_prev\u001b[38;5;241m.\u001b[39mshape)\n",
      "File \u001b[0;32m~/my_project_dir/my_project_env/lib/python3.8/site-packages/numpy/__init__.py:311\u001b[0m, in \u001b[0;36m__getattr__\u001b[0;34m(attr)\u001b[0m\n\u001b[1;32m    308\u001b[0m     \u001b[38;5;28;01mfrom\u001b[39;00m \u001b[38;5;21;01m.\u001b[39;00m\u001b[38;5;21;01mtesting\u001b[39;00m \u001b[38;5;28;01mimport\u001b[39;00m Tester\n\u001b[1;32m    309\u001b[0m     \u001b[38;5;28;01mreturn\u001b[39;00m Tester\n\u001b[0;32m--> 311\u001b[0m \u001b[38;5;28;01mraise\u001b[39;00m \u001b[38;5;167;01mAttributeError\u001b[39;00m(\u001b[38;5;124m\"\u001b[39m\u001b[38;5;124mmodule \u001b[39m\u001b[38;5;132;01m{!r}\u001b[39;00m\u001b[38;5;124m has no attribute \u001b[39m\u001b[38;5;124m\"\u001b[39m\n\u001b[1;32m    312\u001b[0m                      \u001b[38;5;124m\"\u001b[39m\u001b[38;5;132;01m{!r}\u001b[39;00m\u001b[38;5;124m\"\u001b[39m\u001b[38;5;241m.\u001b[39mformat(\u001b[38;5;18m__name__\u001b[39m, attr))\n",
      "\u001b[0;31mAttributeError\u001b[0m: module 'numpy' has no attribute 'mult'"
     ]
    }
   ],
   "source": [
    "np.mult(a_slice_prev.shape)"
   ]
  },
  {
   "cell_type": "code",
   "execution_count": 129,
   "id": "345b4829",
   "metadata": {},
   "outputs": [],
   "source": [
    "da_prev = a_slice_prev[1:-1, 1:-1, :]"
   ]
  },
  {
   "cell_type": "code",
   "execution_count": 130,
   "id": "43ace49f",
   "metadata": {},
   "outputs": [
    {
     "data": {
      "text/plain": [
       "array([[[-1.1730625 , -0.42473919,  0.16335608,  2.21723457],\n",
       "        [ 1.8519522 , -1.62126731,  0.5444814 , -0.38890795],\n",
       "        [ 0.07822584, -1.4981334 , -0.56048376,  0.06564473]],\n",
       "\n",
       "       [[ 1.31964987,  0.23129824,  0.13664416,  0.0535529 ],\n",
       "        [ 0.16257898, -0.55126756,  0.60540734, -0.50926613],\n",
       "        [ 0.30573562,  0.05314455,  0.67217979,  0.25085897]],\n",
       "\n",
       "       [[ 0.42557316, -0.44396154, -0.68649629,  0.45080525],\n",
       "        [ 0.37490005,  1.25756378, -0.42584219,  0.18553418],\n",
       "        [-0.99895345, -0.45829008,  0.36645996,  0.80567198]]])"
      ]
     },
     "execution_count": 130,
     "metadata": {},
     "output_type": "execute_result"
    }
   ],
   "source": [
    "a_slice_prev"
   ]
  },
  {
   "cell_type": "code",
   "execution_count": 131,
   "id": "0cd29f76",
   "metadata": {},
   "outputs": [
    {
     "data": {
      "text/plain": [
       "array([[[ 0.16257898, -0.55126756,  0.60540734, -0.50926613]]])"
      ]
     },
     "execution_count": 131,
     "metadata": {},
     "output_type": "execute_result"
    }
   ],
   "source": [
    "da_prev"
   ]
  },
  {
   "cell_type": "code",
   "execution_count": null,
   "id": "7fa7627d",
   "metadata": {},
   "outputs": [],
   "source": []
  },
  {
   "cell_type": "code",
   "execution_count": null,
   "id": "a68b2f84",
   "metadata": {},
   "outputs": [],
   "source": [
    "for i in range(m):\n",
    "        a_prev_pad = A_prev_pad[0:f,0:f,:] \n",
    "        for h in range(n_W):\n",
    "            vert_start = h\n",
    "            vert_end = vert_start + f\n",
    "            \n",
    "            for w in range(n_H):\n",
    "                horiz_start = w\n",
    "                horiz_end = horiz_start + f\n",
    "                \n",
    "                for c in range(n_C):\n",
    "                    a_slice_prev = A_prev_pad[c:f+c,c:f+c,:]\n",
    "                    weights = W[:,:,:,c]\n",
    "                    biases = b[:,:,:,c]\n",
    "                    Z[i, h, w, c] = conv_single_step(a_slice_prev, weights, biases)\n",
    "            \n",
    "    # YOUR CODE ENDS HERE\n",
    "    \n",
    "    # Save information in \"cache\" for the backprop\n",
    "    cache = (A_prev, W, b, hparameters)"
   ]
  },
  {
   "cell_type": "code",
   "execution_count": 27,
   "id": "a6102d18",
   "metadata": {},
   "outputs": [],
   "source": [
    "# Z"
   ]
  },
  {
   "cell_type": "code",
   "execution_count": 28,
   "id": "53b92ccc",
   "metadata": {},
   "outputs": [],
   "source": [
    "# cache"
   ]
  },
  {
   "cell_type": "code",
   "execution_count": null,
   "id": "e495c9d2",
   "metadata": {},
   "outputs": [],
   "source": []
  },
  {
   "cell_type": "markdown",
   "id": "1c96575d",
   "metadata": {},
   "source": [
    "# Residual Networks"
   ]
  },
  {
   "cell_type": "code",
   "execution_count": null,
   "id": "329999ab",
   "metadata": {},
   "outputs": [],
   "source": []
  },
  {
   "cell_type": "code",
   "execution_count": null,
   "id": "e60f54e8",
   "metadata": {},
   "outputs": [],
   "source": []
  },
  {
   "cell_type": "code",
   "execution_count": null,
   "id": "cd71c3b1",
   "metadata": {},
   "outputs": [],
   "source": []
  },
  {
   "cell_type": "code",
   "execution_count": null,
   "id": "bb9dbc75",
   "metadata": {},
   "outputs": [],
   "source": []
  },
  {
   "cell_type": "code",
   "execution_count": null,
   "id": "853f24d9",
   "metadata": {},
   "outputs": [],
   "source": []
  }
 ],
 "metadata": {
  "kernelspec": {
   "display_name": "Python 3 (ipykernel)",
   "language": "python",
   "name": "python3"
  },
  "language_info": {
   "codemirror_mode": {
    "name": "ipython",
    "version": 3
   },
   "file_extension": ".py",
   "mimetype": "text/x-python",
   "name": "python",
   "nbconvert_exporter": "python",
   "pygments_lexer": "ipython3",
   "version": "3.8.10"
  }
 },
 "nbformat": 4,
 "nbformat_minor": 5
}
